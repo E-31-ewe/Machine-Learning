{
  "nbformat": 4,
  "nbformat_minor": 0,
  "metadata": {
    "colab": {
      "provenance": []
    },
    "kernelspec": {
      "name": "python3",
      "display_name": "Python 3"
    },
    "language_info": {
      "name": "python"
    }
  },
  "cells": [
    {
      "cell_type": "code",
      "source": [
        "from sklearn.model_selection import train_test_split\n",
        "from sklearn.preprocessing import MinMaxScaler\n",
        "from sklearn.preprocessing import StandardScaler\n",
        "from sklearn.linear_model import LinearRegression\n",
        "import pandas as pd\n",
        "import numpy as np\n",
        "import seaborn as sns\n",
        "import matplotlib.pyplot as plt\n",
        "eta = 0.6    # learning rate\n",
        "epoch = 1000 # iteration"
      ],
      "metadata": {
        "id": "cu51HR5c9Qtw"
      },
      "execution_count": 13,
      "outputs": []
    },
    {
      "cell_type": "code",
      "source": [
        "# Linear Regression Model\n",
        "class LinearRegression:\n",
        "    \n",
        "    def __init__(self, x, w, y):\n",
        "        self.inputs  = x\n",
        "        self.weights = w               \n",
        "        self.target  = y\n",
        "        self.output  = np.zeros(self.target.shape)\n",
        "\n",
        "    def forward_proc(self):\n",
        "        # forward processing of inputs and weights\n",
        "        self.output = np.dot(self.weights, self.inputs.T)\n",
        "\n",
        "    def backprop(self):\n",
        "        # backward processing of appling the chain rule to find derivative of the mean square error function with respect to weights\n",
        "        dw = (self.output - self.target) * self.inputs\n",
        "\n",
        "        # update the weights with the derivative of the loss function\n",
        "        self.weights -= eta * dw\n",
        "\n",
        "    def predict(self, x):\n",
        "        # predict the output for a given input x\n",
        "        return (np.dot(self.weights, x.T))\n",
        "        \n",
        "    def calculate_error(self):\n",
        "        # calculate error\n",
        "        error = self.target - self.output\n",
        "        return abs(error)"
      ],
      "metadata": {
        "id": "FFdy_czO9Q3X"
      },
      "execution_count": 21,
      "outputs": []
    },
    {
      "cell_type": "code",
      "source": [
        "# load dataset \n",
        "df = pd.read_csv(\"/content/kc_house_data.csv\")\n",
        "# print(df)"
      ],
      "metadata": {
        "id": "2PgW70-l9Q93"
      },
      "execution_count": 15,
      "outputs": []
    },
    {
      "cell_type": "code",
      "source": [
        "# select features and labels for prediction \n",
        "features = df[[\"bedrooms\", \"yr_built\", \"grade\"]].values \n",
        "labels = df[[\"price\"]].values"
      ],
      "metadata": {
        "id": "kQ_6t-XT9REI"
      },
      "execution_count": 16,
      "outputs": []
    },
    {
      "cell_type": "code",
      "source": [
        "# normalize data  \n",
        "scaler_X = MinMaxScaler() \n",
        "scaler_Y = MinMaxScaler()\n",
        "\n",
        "features = scaler_X.fit_transform(features) \n",
        "labels = scaler_Y.fit_transform(labels)"
      ],
      "metadata": {
        "id": "ILfBYjhL_JS3"
      },
      "execution_count": 17,
      "outputs": []
    },
    {
      "cell_type": "code",
      "source": [
        "# use the following code for shuffling dataset \n",
        "concat_data = np.concatenate((features, labels), axis = 1) "
      ],
      "metadata": {
        "id": "nGHz7sFK_JnL"
      },
      "execution_count": 18,
      "outputs": []
    },
    {
      "cell_type": "code",
      "source": [
        "weights = np.random.rand(1, 2)\n",
        "w = 0\n",
        "print(\"Initial Weights:\", weights)\n"
      ],
      "metadata": {
        "colab": {
          "base_uri": "https://localhost:8080/"
        },
        "id": "y0XpMJc2_SMp",
        "outputId": "6c55707c-a6df-4ef5-e7f2-7a1136f6f4be"
      },
      "execution_count": 19,
      "outputs": [
        {
          "output_type": "stream",
          "name": "stdout",
          "text": [
            "Initial Weights: [[0.62964384 0.71433189]]\n"
          ]
        }
      ]
    },
    {
      "cell_type": "code",
      "source": [
        "for i in range(1, epoch + 1):\n",
        "    if (i == 0):\n",
        "        w = weights\n",
        "\n",
        "    np.random.shuffle(concat_data) # shuffle the dataset\n",
        "    X = concat_data[:, 0:3] \n",
        "    y = concat_data[:, 3:4]\n",
        "\n",
        "    for j in range(len(concat_data)):\n",
        "        model = LinearRegression(X[j], w, y[j])\n",
        "        model.forward_proc() # forward processing\n",
        "        model.backprop()     # backward processing \n",
        "        w = model.weights\n",
        "\n",
        "\n",
        "\n",
        "    if (i % 50 == 0):\n",
        "        print(\"i :\", i // 50, \"\\tLoss: \", model.calculate_error())\n",
        "\n",
        "\n",
        "\n",
        "print(\"Output: \", model.output)\n",
        "print(\"Adjusted weights: \", model.weights)"
      ],
      "metadata": {
        "colab": {
          "base_uri": "https://localhost:8080/"
        },
        "id": "OpvhI4jO_WZ6",
        "outputId": "44a15e06-bac8-45d6-aceb-2d5ff844fffc"
      },
      "execution_count": 20,
      "outputs": [
        {
          "output_type": "stream",
          "name": "stdout",
          "text": [
            "i : 1 \tLoss:  [0.03411189]\n",
            "i : 2 \tLoss:  [0.01015809]\n",
            "i : 3 \tLoss:  [0.06365482]\n",
            "i : 4 \tLoss:  [0.02966288]\n",
            "i : 5 \tLoss:  [0.03061175]\n",
            "i : 6 \tLoss:  [0.02745303]\n",
            "i : 7 \tLoss:  [0.02348126]\n",
            "i : 8 \tLoss:  [0.00113676]\n",
            "i : 9 \tLoss:  [0.00527088]\n",
            "i : 10 \tLoss:  [0.01949011]\n",
            "i : 11 \tLoss:  [0.02007127]\n",
            "i : 12 \tLoss:  [0.0262415]\n",
            "i : 13 \tLoss:  [0.04390803]\n",
            "i : 14 \tLoss:  [0.01236963]\n",
            "i : 15 \tLoss:  [0.01542716]\n",
            "i : 16 \tLoss:  [0.01139275]\n",
            "i : 17 \tLoss:  [0.03152344]\n",
            "i : 18 \tLoss:  [0.01388262]\n",
            "i : 19 \tLoss:  [0.01348545]\n",
            "i : 20 \tLoss:  [0.0533278]\n",
            "Output:  0.0634394498900191\n",
            "Adjusted weights:  [-0.01820563 -0.05632843  0.22307033]\n"
          ]
        }
      ]
    }
  ]
}