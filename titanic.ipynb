{
  "cells": [
    {
      "cell_type": "code",
      "source": [
        "from sklearn.model_selection import train_test_split\n",
        "from sklearn.preprocessing import MinMaxScaler\n",
        "import numpy as np\n",
        "import pandas as pd\n",
        "import random\n",
        "import math\n",
        "\n",
        "eta = 0.7   # learning rate\n",
        "epoch = 10001 # iteration\n"
      ],
      "metadata": {
        "id": "7h8RcJQXZyXr"
      },
      "execution_count": 1,
      "outputs": []
    },
    {
      "cell_type": "code",
      "source": [
        "def sigmoid(x):\n",
        "    return 1.0/(1+ np.exp(-x))\n",
        "\n",
        "def sigmoid_derivative(x):\n",
        "    return x * (1.0 - x)"
      ],
      "metadata": {
        "id": "6zf-MFrEZ-qr"
      },
      "execution_count": 2,
      "outputs": []
    },
    {
      "cell_type": "code",
      "source": [
        "# Logistic Regression Model\n",
        "class LogisticRegression:\n",
        "    \n",
        "    def __init__(self, x, w, y):\n",
        "        self.inputs  = x\n",
        "        self.weights = w               \n",
        "        self.target  = y\n",
        "        self.output  = np.zeros(self.target.shape)\n",
        "\n",
        "    def forward_proc(self):\n",
        "       # forward processing of inputs and weights using sigmoid activation function \n",
        "        self.output = sigmoid(np.dot(self.weights, self.inputs.T))\n",
        "\n",
        "    def backprop(self):\n",
        "        # backward processing of appling the chain rule to find derivative of the cross-entropy losss w.r.t weights\n",
        "        dw = (self.output - self.target) * self.inputs # same formular for both linear and logistic regression\n",
        "\n",
        "        # update the weights with the derivative of the loss function\n",
        "        self.weights -= eta * dw\n",
        "\n",
        "    def predict(self, x):\n",
        "        # predict the output for a given input x\n",
        "        return (sigmoid(np.dot(self.weights, x.T)))\n",
        "        \n",
        "    def calculate_error(self):\n",
        "        # calculate error\n",
        "        error = -self.target * math.log(self.output) - (1-self.target) * math.log(1-self.output)\n",
        "        return abs(error)"
      ],
      "metadata": {
        "id": "s80c1LIJaYyQ"
      },
      "execution_count": 3,
      "outputs": []
    },
    {
      "cell_type": "code",
      "source": [
        "df = pd.read_csv(\"/content/titanic_data.csv\")\n",
        "\n",
        "df['Sex'] = df['Sex'].map({'female':1,'male':0})\n",
        "df['Age'].fillna(value=df['Age'].mean(), inplace=True)\n",
        "\n",
        "df = df.iloc[:100, :]\n",
        "passengers = df[[\"Sex\", \"Age\", \"Pclass\",\"Survived\" ]]"
      ],
      "metadata": {
        "id": "uVpwk5IbabZs"
      },
      "execution_count": 6,
      "outputs": []
    },
    {
      "cell_type": "code",
      "source": [
        "# split train and test set\n",
        "train, test = train_test_split(passengers, test_size=0.2)"
      ],
      "metadata": {
        "id": "lXa3nw2-ahQb"
      },
      "execution_count": 7,
      "outputs": []
    },
    {
      "cell_type": "code",
      "source": [
        "# select proper features for prediction\n",
        "train_features = train[[\"Sex\", \"Age\", \"Pclass\"]].values\n",
        "test_features = test[[\"Sex\", \"Age\", \"Pclass\"]].values\n",
        "train_labels = train[[\"Survived\"]].values\n",
        "test_labels = test[[\"Survived\"]].values\n",
        "\n",
        "scaler = MinMaxScaler()\n",
        "train_features = scaler.fit_transform(train_features)\n",
        "test_features = scaler.fit_transform(test_features)\n",
        "\n",
        "concat_data = np.concatenate((train_features, train_labels), axis = 1)\n",
        "np.random.shuffle(concat_data)\n",
        "\n",
        "weights = np.random.rand(1, 3)\n",
        "print(\"Initial Weights:\", weights)"
      ],
      "metadata": {
        "colab": {
          "base_uri": "https://localhost:8080/"
        },
        "id": "lKargriCauhY",
        "outputId": "e06c5c53-c26e-409e-95aa-34818cdd7ff9"
      },
      "execution_count": 8,
      "outputs": [
        {
          "output_type": "stream",
          "name": "stdout",
          "text": [
            "Initial Weights: [[0.5928544  0.70830884 0.47865433]]\n"
          ]
        }
      ]
    },
    {
      "cell_type": "code",
      "source": [
        "# SGD Optimization\n",
        "for i in range(epoch):\n",
        "\n",
        "    if i == 0: w = weights\n",
        "    np.random.shuffle(concat_data) # shuffle the input data\n",
        "    X = concat_data[:, 0:3]\n",
        "    y = concat_data[:, 3:4]\n",
        "\n",
        "    for j in range(len(X)):\n",
        "        model = LogisticRegression(X[j], w, y[j])\n",
        "        model.forward_proc()\n",
        "        model.backprop()\n",
        "        w = model.weights \n",
        "\n",
        "    if (i % 1000) == 0:\n",
        "        print(\"Loss: \", model.calculate_error())\n",
        "    \n",
        "print(\"Output:\", model.output)\n",
        "print(\"Adjusted Weights:\", model.weights)"
      ],
      "metadata": {
        "colab": {
          "base_uri": "https://localhost:8080/"
        },
        "id": "WqwQcksiazLk",
        "outputId": "1036e475-9eb3-4dd7-c977-5c4f58b825a8"
      },
      "execution_count": 9,
      "outputs": [
        {
          "output_type": "stream",
          "name": "stdout",
          "text": [
            "Loss:  [0.53892939]\n",
            "Loss:  [0.3122651]\n",
            "Loss:  [1.43991073]\n",
            "Loss:  [0.11784073]\n",
            "Loss:  [0.39169833]\n",
            "Loss:  [0.03106825]\n",
            "Loss:  [0.3001235]\n",
            "Loss:  [0.19876907]\n",
            "Loss:  [0.04166055]\n",
            "Loss:  [1.06058468]\n",
            "Loss:  [0.08393887]\n",
            "Output: [0.08051253]\n",
            "Adjusted Weights: [[ 3.37564528 -1.29950912 -2.10483557]]\n"
          ]
        }
      ]
    },
    {
      "cell_type": "code",
      "source": [
        "# Performance measure\n",
        "# use the test features\n",
        "X = test_features\n",
        "y = test_labels\n",
        "w = model.weights # use the weights resulting from training\n",
        "y_predic = []\n",
        "y_actual = []\n",
        "for j in range(len(X)):\n",
        "    model = LogisticRegression(X[j], w, y[j])\n",
        "    y_actual.append(y[j][0]);\n",
        "    if model.predict(X[j]) >= 0.5:\n",
        "        y_predic.append(1)\n",
        "    elif model.predict(X[j]) < 0.5:\n",
        "        y_predic.append(0)\n",
        "\n",
        "\n",
        "from sklearn.metrics import confusion_matrix\n",
        "from sklearn.metrics import classification_report\n",
        "results = confusion_matrix(y_actual, y_predic)\n",
        "\n",
        "print ('\\n\\nConfusion Matrix :')\n",
        "print(results)\n",
        "print ('Classification Report : ')\n",
        "print (classification_report(y_actual, y_predic))"
      ],
      "metadata": {
        "colab": {
          "base_uri": "https://localhost:8080/"
        },
        "id": "DPMAnJTgbD_E",
        "outputId": "915aabe9-6709-4b45-ddb8-b5cafac78350"
      },
      "execution_count": 10,
      "outputs": [
        {
          "output_type": "stream",
          "name": "stdout",
          "text": [
            "\n",
            "\n",
            "Confusion Matrix :\n",
            "[[11  2]\n",
            " [ 2  5]]\n",
            "Classification Report : \n",
            "              precision    recall  f1-score   support\n",
            "\n",
            "           0       0.85      0.85      0.85        13\n",
            "           1       0.71      0.71      0.71         7\n",
            "\n",
            "    accuracy                           0.80        20\n",
            "   macro avg       0.78      0.78      0.78        20\n",
            "weighted avg       0.80      0.80      0.80        20\n",
            "\n"
          ]
        }
      ]
    }
  ],
  "metadata": {
    "kernelspec": {
      "display_name": "Python 3.10.4 64-bit",
      "language": "python",
      "name": "python3"
    },
    "language_info": {
      "codemirror_mode": {
        "name": "ipython",
        "version": 3
      },
      "file_extension": ".py",
      "mimetype": "text/x-python",
      "name": "python",
      "nbconvert_exporter": "python",
      "pygments_lexer": "ipython3",
      "version": "3.10.4"
    },
    "orig_nbformat": 4,
    "vscode": {
      "interpreter": {
        "hash": "aee8b7b246df8f9039afb4144a1f6fd8d2ca17a180786b69acc140d282b71a49"
      }
    },
    "colab": {
      "provenance": []
    }
  },
  "nbformat": 4,
  "nbformat_minor": 0
}